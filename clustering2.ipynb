{
 "cells": [
  {
   "cell_type": "markdown",
   "id": "963415d3-7344-44b2-8492-e641dd56f724",
   "metadata": {},
   "source": [
    "- Read the Journals about the Sessa Empirical Estimator.\n",
    "- Convert the R codes into Python Codes (use jupyter notebook).\n",
    "- Using Simulated data\n",
    "    - (https://www.frontiersin.org/journals/pharmacology/articles/10.3389/fphar.2019.00383/full)\n",
    "    - or a real world datasets of your choice\n",
    "    - (You can obtain it in Kaggle or in https://archive.ics.uci.edu/),\n",
    "    - perform the Sessa Empircal Estimator and generate some insights.\n",
    "- The Sessa Empirical Estimator uses\n",
    "    - K-Means clustering\n",
    "    - (recall the disadvantages of K-Means),\n",
    "    - try to substitute a different clustering algorithm,\n",
    "    - generate a new insight using the new clustering algorithm.\n",
    "- Compare your results between\n",
    "    - Sessa Empirical Estimator using K-Means,\n",
    "    - and Sessa Empirical Estimator using the clustering algorithm of your choice."
   ]
  },
  {
   "cell_type": "markdown",
   "id": "d7290616",
   "metadata": {},
   "source": [
    "## Sessa empirical Estimator(SEE) Process\n",
    "\n",
    "- Filtering\n",
    "    - excludes the top 20% of gaps\n",
    "    - Standardizing refill sizes\n",
    "    - Standardize time distance\n",
    "- SEE uses Silhouette Analysis to get the best ammount of clusters\n",
    "- Probability Desnsity Function for each cluster\n",
    "    - most typical time distance"
   ]
  },
  {
   "cell_type": "code",
   "execution_count": 1,
   "id": "dafd0874",
   "metadata": {},
   "outputs": [
    {
     "ename": "NameError",
     "evalue": "name 'x' is not defined",
     "output_type": "error",
     "traceback": [
      "\u001b[0;31m---------------------------------------------------------------------------\u001b[0m",
      "\u001b[0;31mNameError\u001b[0m                                 Traceback (most recent call last)",
      "Cell \u001b[0;32mIn [1], line 2\u001b[0m\n\u001b[1;32m      1\u001b[0m y \u001b[38;5;241m=\u001b[39m \u001b[38;5;241m96420\u001b[39m\n\u001b[0;32m----> 2\u001b[0m \u001b[38;5;28mprint\u001b[39m(\u001b[43mx\u001b[49m)\n",
      "\u001b[0;31mNameError\u001b[0m: name 'x' is not defined"
     ]
    }
   ],
   "source": [
    "y = 96420\n",
    "print(x)"
   ]
  },
  {
   "cell_type": "code",
   "execution_count": 4,
   "id": "7633b695-be38-4ff6-8db5-30ea01a63cef",
   "metadata": {},
   "outputs": [],
   "source": [
    "x = \"kill me please\""
   ]
  },
  {
   "cell_type": "code",
   "execution_count": 4,
   "id": "35775d39-f7a7-430e-beb4-dfd2ecbb7362",
   "metadata": {},
   "outputs": [
    {
     "name": "stdout",
     "output_type": "stream",
     "text": [
      "kill me please\n"
     ]
    }
   ],
   "source": [
    "print(x)"
   ]
  },
  {
   "cell_type": "code",
   "execution_count": 5,
   "id": "927fb486-fde0-49de-9bea-a06ecd5a64c7",
   "metadata": {},
   "outputs": [
    {
     "ename": "SyntaxError",
     "evalue": "invalid syntax (2852978939.py, line 13)",
     "output_type": "error",
     "traceback": [
      "\u001b[0;36m  Cell \u001b[0;32mIn[5], line 13\u001b[0;36m\u001b[0m\n\u001b[0;31m    tidy$eksd <- mdy(tidy$eksd)\u001b[0m\n\u001b[0m        ^\u001b[0m\n\u001b[0;31mSyntaxError\u001b[0m\u001b[0;31m:\u001b[0m invalid syntax\n"
     ]
    }
   ],
   "source": []
  },
  {
   "cell_type": "markdown",
   "id": "58c8691a",
   "metadata": {},
   "source": [
    "# HELLO\n",
    "## hello\n",
    "### HI\n",
    "***bold***\n",
    "normal letters"
   ]
  },
  {
   "cell_type": "code",
   "execution_count": null,
   "id": "5875f251",
   "metadata": {},
   "outputs": [],
   "source": []
  }
 ],
 "metadata": {
  "kernelspec": {
   "display_name": "Python 3 (ipykernel)",
   "language": "python",
   "name": "python3"
  },
  "language_info": {
   "codemirror_mode": {
    "name": "ipython",
    "version": 3
   },
   "file_extension": ".py",
   "mimetype": "text/x-python",
   "name": "python",
   "nbconvert_exporter": "python",
   "pygments_lexer": "ipython3",
   "version": "3.11.2"
  }
 },
 "nbformat": 4,
 "nbformat_minor": 5
}
